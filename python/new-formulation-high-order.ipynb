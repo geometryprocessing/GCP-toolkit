{
 "cells": [
  {
   "cell_type": "code",
   "execution_count": null,
   "metadata": {},
   "outputs": [],
   "source": [
    "import numpy as np\n",
    "import plotly.figure_factory as ff\n",
    "import plotly.graph_objects as go\n",
    "from plotly.subplots import make_subplots\n",
    "import meshio, numpy, copy\n",
    "import meshplot as mp\n",
    "import sys\n",
    "import pathlib\n",
    "sys.path.append(str(pathlib.Path(\"/home/zizhou/smooth-ipc/build\") / \"debug\" / \"python\"))  # noqa\n",
    "\n",
    "from ipctk import *"
   ]
  },
  {
   "cell_type": "code",
   "execution_count": null,
   "metadata": {},
   "outputs": [],
   "source": [
    "V = np.array([[0.5,0],[1.0,0],[1.5,0],[0.5,1],[1.01,0.1],[1.5,1],[1,-0.5]])\n",
    "# E = np.array([[1,0],[2,1],[3,4],[4,5],[5,3],[0,6],[6,2]], dtype=int)\n",
    "E = np.array([[1,0],[2,1],[0,6],[6,2]], dtype=int)\n",
    "F = np.array([])\n",
    "\n",
    "dhat=0.11\n",
    "param = ParameterType(dhat, 1, 0, 1, 0, 1, 200)\n",
    "mesh = CollisionMesh(V, E, F)"
   ]
  },
  {
   "cell_type": "code",
   "execution_count": null,
   "metadata": {},
   "outputs": [],
   "source": [
    "p = mp.plot(V, F, shading={\"width\": 200, \"height\": 200})\n",
    "p.add_points(V, shading={\"point_color\": \"green\", \"point_size\": 0.1})\n",
    "p.add_lines(V[E[:,0],:],V[E[:,1],:], shading={\"line_width\": 2})"
   ]
  },
  {
   "cell_type": "code",
   "execution_count": null,
   "metadata": {},
   "outputs": [],
   "source": [
    "# single point\n",
    "\n",
    "def potential_single_point(points):\n",
    "    cs2 = SmoothCollisions2()\n",
    "    cs2.use_high_order_quadrature = False\n",
    "    cs2.build(mesh, points, param)\n",
    "    \n",
    "    B = SmoothPotential(param)\n",
    "    # g = B.gradient(cs1, mesh, points)\n",
    "\n",
    "    return B(cs2, mesh, points)"
   ]
  },
  {
   "cell_type": "code",
   "execution_count": null,
   "metadata": {},
   "outputs": [],
   "source": [
    "# IPC\n",
    "\n",
    "def potential_IPC(points):\n",
    "    cs3 = Collisions()\n",
    "    cs3.build(mesh, points, param.dhat)\n",
    "\n",
    "    B = BarrierPotential(param.dhat)\n",
    "    # g = B.gradient(cs3, mesh, points)\n",
    "\n",
    "    return B(cs3, mesh, points)"
   ]
  },
  {
   "cell_type": "code",
   "execution_count": null,
   "metadata": {},
   "outputs": [],
   "source": [
    "print(mesh.edges)"
   ]
  },
  {
   "cell_type": "code",
   "execution_count": null,
   "metadata": {},
   "outputs": [],
   "source": [
    "cs2 = SmoothCollisions2()\n",
    "cs2.use_high_order_quadrature = False\n",
    "cs2.build(mesh, V, param)\n",
    "print(cs2.to_string(mesh, V, param))"
   ]
  },
  {
   "cell_type": "code",
   "execution_count": null,
   "metadata": {},
   "outputs": [],
   "source": [
    "print(potential_IPC(V), potential_single_point(V))"
   ]
  },
  {
   "cell_type": "code",
   "execution_count": null,
   "metadata": {},
   "outputs": [],
   "source": [
    "displacements = np.linspace(-0.1, 0.1, 200)\n",
    "pA = []\n",
    "pB = []\n",
    "pC = []\n",
    "\n",
    "for disp in displacements:\n",
    "    V_disp = copy.deepcopy(V)\n",
    "    V_disp[4, 0] += disp\n",
    "    \n",
    "    pA.append(potential_IPC(V_disp))\n",
    "    pB.append(potential_single_point(V_disp))"
   ]
  },
  {
   "cell_type": "code",
   "execution_count": null,
   "metadata": {},
   "outputs": [],
   "source": [
    "fig = go.Figure(data=[\n",
    "    go.Scatter(x=displacements, y=pA, name=\"IPC\"),\n",
    "    go.Scatter(x=displacements, y=pB, name=\"Single Point\"),\n",
    "], layout=go.Layout(width=800, height=400))\n",
    "\n",
    "fig.update_layout(\n",
    "    yaxis_type=\"log\"\n",
    ")\n",
    "\n",
    "fig.show()"
   ]
  },
  {
   "cell_type": "code",
   "execution_count": null,
   "metadata": {},
   "outputs": [],
   "source": []
  }
 ],
 "metadata": {
  "kernelspec": {
   "display_name": "base",
   "language": "python",
   "name": "python3"
  },
  "language_info": {
   "codemirror_mode": {
    "name": "ipython",
    "version": 3
   },
   "file_extension": ".py",
   "mimetype": "text/x-python",
   "name": "python",
   "nbconvert_exporter": "python",
   "pygments_lexer": "ipython3",
   "version": "3.9.18"
  }
 },
 "nbformat": 4,
 "nbformat_minor": 2
}
