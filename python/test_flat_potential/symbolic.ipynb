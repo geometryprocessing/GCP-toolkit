{
 "cells": [
  {
   "cell_type": "code",
   "execution_count": null,
   "id": "0ccfe418",
   "metadata": {},
   "outputs": [],
   "source": [
    "import sympy as sp\n",
    "from sympy import symbols, diff, Piecewise, Eq\n",
    "from sympy.plotting import plot\n",
    "\n",
    "# Define a symbolic variable\n",
    "z = symbols('z')\n",
    "a = symbols('a')\n",
    "b = symbols('b')\n",
    "c = symbols('c')\n",
    "\n",
    "spline = Piecewise((0, sp.Ge(b*b, 1)), ((1 - sp.sqrt(b*b)) ** 3 * 4 / 3, sp.Ge(b*b, 0.25)), (2 / 3 - 4 * b*b * (1 - sp.sqrt(b*b)), True))\n",
    "heaviside = Piecewise((0, a < -3), ((3 + a) ** 3 / 6, a < -2), ((((-2 * a - 9) * a - 9) * a + 3) / 6, a < -1), (a ** 3 / 6 + 1, a < 0), (1, True))\n",
    "\n",
    "barrier = spline.subs(b, z) / z\n",
    "\n",
    "# Differentiate the function with respect to x\n",
    "dspline = diff(spline, z)\n",
    "dbarrier = diff(barrier, z)\n",
    "\n",
    "# plot(dspline, (z, -1.1, 1.1))\n",
    "plot(dbarrier, (z, 0.05, 1), xlim=[0, 1.1])"
   ]
  }
 ],
 "metadata": {
  "language_info": {
   "name": "python"
  }
 },
 "nbformat": 4,
 "nbformat_minor": 5
}
